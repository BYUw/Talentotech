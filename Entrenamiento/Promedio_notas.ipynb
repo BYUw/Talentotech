{
  "nbformat": 4,
  "nbformat_minor": 0,
  "metadata": {
    "colab": {
      "provenance": []
    },
    "kernelspec": {
      "name": "python3",
      "display_name": "Python 3"
    },
    "language_info": {
      "name": "python"
    }
  },
  "cells": [
    {
      "cell_type": "code",
      "execution_count": null,
      "metadata": {
        "colab": {
          "base_uri": "https://localhost:8080/"
        },
        "id": "3tn7hnso-qiG",
        "outputId": "4b051e25-16f8-48ab-ae69-2958d6d1c6d7"
      },
      "outputs": [
        {
          "output_type": "stream",
          "name": "stdout",
          "text": [
            "Nombre del estudiante (o escribe 'salir' para terminar): Angela\n",
            "Ingrese una nota para Angela (o escribe 'fin' para terminar): 4,5\n",
            "Ingrese una nota para Angela (o escribe 'fin' para terminar): 5,0\n",
            "Ingrese una nota para Angela (o escribe 'fin' para terminar): 2,1\n",
            "Ingrese una nota para Angela (o escribe 'fin' para terminar): 6,1\n",
            "Ingrese una nota para Angela (o escribe 'fin' para terminar): 3,2\n",
            "Ingrese una nota para Angela (o escribe 'fin' para terminar): fin\n",
            "Nombre del estudiante (o escribe 'salir' para terminar): salir\n",
            "\n",
            "Resumen de estudiantes:\n",
            "Angela: promedio = 4.18, notas = [4.5, 5.0, 2.1, 6.1, 3.2]\n"
          ]
        }
      ],
      "source": [
        "# Lista para guardar los datos de los estudiantes\n",
        "estudiantes = []\n",
        "\n",
        "while True:\n",
        "    nombre = input(\"Nombre del estudiante (o escribe 'salir' para terminar): \")\n",
        "    if nombre.lower() == 'salir':\n",
        "        break\n",
        "\n",
        "    notas = []\n",
        "    while True:\n",
        "        nota = input(f\"Ingrese una nota para {nombre} (o escribe 'fin' para terminar): \")\n",
        "        if nota.lower() == 'fin':\n",
        "            break\n",
        "        try:\n",
        "            nota = float(nota.replace(\",\", \".\"))  # Acepta también comas como separador decimal\n",
        "            notas.append(nota)\n",
        "        except ValueError:\n",
        "            print(\"Por favor, ingresa una nota válida (ej: 4.0 o 3,5).\")\n",
        "\n",
        "    if notas:\n",
        "        promedio = sum(notas) / len(notas)\n",
        "        estudiantes.append({'nombre': nombre, 'notas': notas, 'promedio': promedio})\n",
        "    else:\n",
        "        print(f\"No se ingresaron notas para {nombre}.\")\n",
        "\n",
        "# Mostrar resultados\n",
        "print(\"\\nResumen de estudiantes:\")\n",
        "for est in estudiantes:\n",
        "    print(f\"{est['nombre']}: promedio = {est['promedio']:.2f}, notas = {est['notas']}\")\n"
      ]
    }
  ]
}