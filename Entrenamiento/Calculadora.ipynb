{
  "nbformat": 4,
  "nbformat_minor": 0,
  "metadata": {
    "colab": {
      "provenance": []
    },
    "kernelspec": {
      "name": "python3",
      "display_name": "Python 3"
    },
    "language_info": {
      "name": "python"
    }
  },
  "cells": [
    {
      "cell_type": "code",
      "source": [
        "import math\n",
        "\n",
        "def suma(x, y):\n",
        "    return x + y\n",
        "def resta(x, y):\n",
        "    return x - y\n",
        "def multiplicacion(x, y):\n",
        "    return x * y\n",
        "def division(x, y):\n",
        "    if y == 0:\n",
        "        return \"No se puede dividir entre 0\"\n",
        "    return x / y\n",
        "def potencia(x, y):\n",
        "    return math.pow(x, y)\n",
        "def logaritmo_base(x, y):\n",
        "    if x <= 0 or y <= 0 or y == 1:\n",
        "        return \"Valores inválidos para logaritmo\"\n",
        "    return math.log(x, y)\n",
        "def raiz_enesima(x, y):\n",
        "    if y == 0:\n",
        "        return \"No se puede sacar raíz con índice 0\"\n",
        "    return x ** (1 / y)\n",
        "\n",
        "while True:\n",
        "    print(\"\\nSelecciona la operación:\")\n",
        "    print(\"1. Sumar\")\n",
        "    print(\"2. Restar\")\n",
        "    print(\"3. Multiplicar\")\n",
        "    print(\"4. Dividir\")\n",
        "    print(\"5. Potencia\")\n",
        "    print(\"6. Logaritmo en base Y\")\n",
        "    print(\"7. Raíz enésima\")\n",
        "    print(\"8. Salir\")\n",
        "\n",
        "    opcion = input(\"Ingresa el número de la operación: \")\n",
        "\n",
        "    if opcion == \"8\":\n",
        "        print(\"Saliendo de la calculadora.\")\n",
        "        break\n",
        "\n",
        "    try:\n",
        "        n1 = float(input(\"Ingresa el primer número: \"))\n",
        "        n2 = float(input(\"Ingresa el segundo número: \"))\n",
        "\n",
        "        if opcion == \"1\":\n",
        "            resultado = suma(n1, n2)\n",
        "        elif opcion == \"2\":\n",
        "            resultado = resta(n1, n2)\n",
        "        elif opcion == \"3\":\n",
        "            resultado = multiplicacion(n1, n2)\n",
        "        elif opcion == \"4\":\n",
        "            resultado = division(n1, n2)\n",
        "        elif opcion == \"5\":\n",
        "            resultado = potencia(n1, n2)\n",
        "        elif opcion == \"6\":\n",
        "            resultado = logaritmo_base(n1, n2)\n",
        "        elif opcion == \"7\":\n",
        "            resultado = raiz_enesima(n1, n2)\n",
        "        else:\n",
        "            resultado = \"Opción no válida\"\n",
        "\n",
        "        print(\"Resultado:\", resultado)\n",
        "\n",
        "    except ValueError:\n",
        "        print(\"Error: Por favor, ingresa números válidos.\")\n"
      ],
      "metadata": {
        "colab": {
          "base_uri": "https://localhost:8080/",
          "height": 773
        },
        "id": "tDHLHphRKsn5",
        "outputId": "7c28ef24-700f-4510-ad14-e7ea4589da9e"
      },
      "execution_count": null,
      "outputs": [
        {
          "output_type": "stream",
          "name": "stdout",
          "text": [
            "\n",
            "Selecciona la operación:\n",
            "1. Sumar\n",
            "2. Restar\n",
            "3. Multiplicar\n",
            "4. Dividir\n",
            "5. Potencia\n",
            "6. Logaritmo en base Y\n",
            "7. Raíz enésima\n",
            "8. Salir\n",
            "Ingresa el número de la operación: 7\n",
            "Ingresa el primer número: 10\n",
            "Ingresa el segundo número: 2\n",
            "Resultado: 3.1622776601683795\n",
            "\n",
            "Selecciona la operación:\n",
            "1. Sumar\n",
            "2. Restar\n",
            "3. Multiplicar\n",
            "4. Dividir\n",
            "5. Potencia\n",
            "6. Logaritmo en base Y\n",
            "7. Raíz enésima\n",
            "8. Salir\n"
          ]
        },
        {
          "output_type": "error",
          "ename": "KeyboardInterrupt",
          "evalue": "Interrupted by user",
          "traceback": [
            "\u001b[0;31m---------------------------------------------------------------------------\u001b[0m",
            "\u001b[0;31mKeyboardInterrupt\u001b[0m                         Traceback (most recent call last)",
            "\u001b[0;32m<ipython-input-53-e372a2008c03>\u001b[0m in \u001b[0;36m<cell line: 0>\u001b[0;34m()\u001b[0m\n\u001b[1;32m     33\u001b[0m     \u001b[0mprint\u001b[0m\u001b[0;34m(\u001b[0m\u001b[0;34m\"8. Salir\"\u001b[0m\u001b[0;34m)\u001b[0m\u001b[0;34m\u001b[0m\u001b[0;34m\u001b[0m\u001b[0m\n\u001b[1;32m     34\u001b[0m \u001b[0;34m\u001b[0m\u001b[0m\n\u001b[0;32m---> 35\u001b[0;31m     \u001b[0mopcion\u001b[0m \u001b[0;34m=\u001b[0m \u001b[0minput\u001b[0m\u001b[0;34m(\u001b[0m\u001b[0;34m\"Ingresa el número de la operación: \"\u001b[0m\u001b[0;34m)\u001b[0m\u001b[0;34m\u001b[0m\u001b[0;34m\u001b[0m\u001b[0m\n\u001b[0m\u001b[1;32m     36\u001b[0m \u001b[0;34m\u001b[0m\u001b[0m\n\u001b[1;32m     37\u001b[0m     \u001b[0;32mif\u001b[0m \u001b[0mopcion\u001b[0m \u001b[0;34m==\u001b[0m \u001b[0;34m\"8\"\u001b[0m\u001b[0;34m:\u001b[0m\u001b[0;34m\u001b[0m\u001b[0;34m\u001b[0m\u001b[0m\n",
            "\u001b[0;32m/usr/local/lib/python3.11/dist-packages/ipykernel/kernelbase.py\u001b[0m in \u001b[0;36mraw_input\u001b[0;34m(self, prompt)\u001b[0m\n\u001b[1;32m   1175\u001b[0m                 \u001b[0;34m\"raw_input was called, but this frontend does not support input requests.\"\u001b[0m\u001b[0;34m\u001b[0m\u001b[0;34m\u001b[0m\u001b[0m\n\u001b[1;32m   1176\u001b[0m             )\n\u001b[0;32m-> 1177\u001b[0;31m         return self._input_request(\n\u001b[0m\u001b[1;32m   1178\u001b[0m             \u001b[0mstr\u001b[0m\u001b[0;34m(\u001b[0m\u001b[0mprompt\u001b[0m\u001b[0;34m)\u001b[0m\u001b[0;34m,\u001b[0m\u001b[0;34m\u001b[0m\u001b[0;34m\u001b[0m\u001b[0m\n\u001b[1;32m   1179\u001b[0m             \u001b[0mself\u001b[0m\u001b[0;34m.\u001b[0m\u001b[0m_parent_ident\u001b[0m\u001b[0;34m[\u001b[0m\u001b[0;34m\"shell\"\u001b[0m\u001b[0;34m]\u001b[0m\u001b[0;34m,\u001b[0m\u001b[0;34m\u001b[0m\u001b[0;34m\u001b[0m\u001b[0m\n",
            "\u001b[0;32m/usr/local/lib/python3.11/dist-packages/ipykernel/kernelbase.py\u001b[0m in \u001b[0;36m_input_request\u001b[0;34m(self, prompt, ident, parent, password)\u001b[0m\n\u001b[1;32m   1217\u001b[0m             \u001b[0;32mexcept\u001b[0m \u001b[0mKeyboardInterrupt\u001b[0m\u001b[0;34m:\u001b[0m\u001b[0;34m\u001b[0m\u001b[0;34m\u001b[0m\u001b[0m\n\u001b[1;32m   1218\u001b[0m                 \u001b[0;31m# re-raise KeyboardInterrupt, to truncate traceback\u001b[0m\u001b[0;34m\u001b[0m\u001b[0;34m\u001b[0m\u001b[0m\n\u001b[0;32m-> 1219\u001b[0;31m                 \u001b[0;32mraise\u001b[0m \u001b[0mKeyboardInterrupt\u001b[0m\u001b[0;34m(\u001b[0m\u001b[0;34m\"Interrupted by user\"\u001b[0m\u001b[0;34m)\u001b[0m \u001b[0;32mfrom\u001b[0m \u001b[0;32mNone\u001b[0m\u001b[0;34m\u001b[0m\u001b[0;34m\u001b[0m\u001b[0m\n\u001b[0m\u001b[1;32m   1220\u001b[0m             \u001b[0;32mexcept\u001b[0m \u001b[0mException\u001b[0m\u001b[0;34m:\u001b[0m\u001b[0;34m\u001b[0m\u001b[0;34m\u001b[0m\u001b[0m\n\u001b[1;32m   1221\u001b[0m                 \u001b[0mself\u001b[0m\u001b[0;34m.\u001b[0m\u001b[0mlog\u001b[0m\u001b[0;34m.\u001b[0m\u001b[0mwarning\u001b[0m\u001b[0;34m(\u001b[0m\u001b[0;34m\"Invalid Message:\"\u001b[0m\u001b[0;34m,\u001b[0m \u001b[0mexc_info\u001b[0m\u001b[0;34m=\u001b[0m\u001b[0;32mTrue\u001b[0m\u001b[0;34m)\u001b[0m\u001b[0;34m\u001b[0m\u001b[0;34m\u001b[0m\u001b[0m\n",
            "\u001b[0;31mKeyboardInterrupt\u001b[0m: Interrupted by user"
          ]
        }
      ]
    }
  ]
}